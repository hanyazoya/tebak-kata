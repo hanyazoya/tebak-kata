{
 "cells": [
  {
   "cell_type": "code",
   "execution_count": 1,
   "id": "3d60c632",
   "metadata": {},
   "outputs": [],
   "source": [
    "import numpy\n",
    "import string\n",
    "from itertools import permutations"
   ]
  },
  {
   "cell_type": "code",
   "execution_count": 2,
   "id": "9c77e104",
   "metadata": {},
   "outputs": [
    {
     "name": "stdout",
     "output_type": "stream",
     "text": [
      "93765\n"
     ]
    }
   ],
   "source": [
    "# old source = \"https://github.com/kangfend/bahasa/blob/master/bahasa/data/kamus.txt\" (29923)\n",
    "# new source = \"https://github.com/thomedw/indonesiadic/blob/master/indonesia.dic\" (93765)\n",
    "file1 = open(\"C:/Users/user/Documents/indonesian-words.txt\", \"r\")\n",
    "kbbi_words = []\n",
    "for line in file1:\n",
    "    kbbi_words.append(line.strip().lower())\n",
    "file1.close()\n",
    "\n",
    "print(len(kbbi_words))"
   ]
  },
  {
   "cell_type": "code",
   "execution_count": 3,
   "id": "0b39e7a8",
   "metadata": {},
   "outputs": [],
   "source": [
    "# def finding(word):\n",
    "#     return word in kbbi_words\n",
    "\n",
    "def subsett(s):\n",
    "    st_arr = []\n",
    "    for i in range(len(s)-1,-1,-1):\n",
    "        for j in range(len(st_arr)):\n",
    "            st_arr.append(s[i]+st_arr[j])\n",
    "        st_arr.append(s[i])\n",
    "    return st_arr\n",
    "\n",
    "def input_corrections(letters, min_len=-1, max_len=-1, exact_len=-1):\n",
    "    letters = letters.lower()\n",
    "    min_len = 1 if min_len<1 or min_len>len(letters) or min_len>max_len else min_len\n",
    "    max_len = len(letters) if max_len==-1 or max_len<min_len or max_len>len(letters) else max_len\n",
    "    exact_len = -1 if exact_len<1 or exact_len>len(letters) else exact_len\n",
    "    return letters, min_len, max_len, exact_len\n",
    "    \n",
    "def subs_constraints(letters, min_len, max_len, exact_len=-1):\n",
    "    letters, min_len, max_len, exact_len = input_corrections(letters, min_len, max_len, exact_len)\n",
    "    print(letters, min_len, max_len, exact_len) #DEBUG\n",
    "    \n",
    "    ori_subset = set(subsett(letters))\n",
    "    subs = set()\n",
    "    for subset in ori_subset:\n",
    "        subs.update(set([''.join(p) for p in permutations(subset)]))\n",
    "    print(\"all letters combinations without any constraints: \"+str(len(subs)))\n",
    "    \n",
    "    constrained_subs = []\n",
    "    rejected_subs = []\n",
    "    if exact_len!=-1: # finding words with constraints: exact_len\n",
    "        for i in subs:\n",
    "            if len(i)==exact_len:\n",
    "                if i in kbbi_words:\n",
    "#                     print(i)\n",
    "                    constrained_subs.append(i)\n",
    "                else:\n",
    "                    rejected_subs.append(i)\n",
    "            else:\n",
    "                rejected_subs.append(i)\n",
    "    else: # finding words with constraints: min_len, max_len\n",
    "        for i in subs:\n",
    "#             print(i) #DEBUG\n",
    "            if len(i)>=min_len and len(i)<=max_len:\n",
    "#                 if i==\"viral\": #DEBUG\n",
    "#                     print(\"gotchu\")\n",
    "                if i in kbbi_words:\n",
    "#                     print(i)\n",
    "                    constrained_subs.append(i)\n",
    "                else:\n",
    "                    rejected_subs.append(i)\n",
    "            else:\n",
    "                rejected_subs.append(i)\n",
    "    return constrained_subs, rejected_subs\n",
    "        \n",
    "def specialized(combination_set, hint_len, hint_arr=[]):\n",
    "    specialized_arr = []\n",
    "    for word in combination_set:\n",
    "        if len(word)==hint_len:\n",
    "            if hint_arr==[]:\n",
    "                print(word)\n",
    "                specialized_arr.append(word)\n",
    "            else:\n",
    "                all_hints_correct=True\n",
    "                for i in hint_arr:\n",
    "                    if i[0]<=len(word):\n",
    "                        if word[i[0]-1]!=i[1].lower():\n",
    "                            all_hints_correct=False\n",
    "                            break\n",
    "                if all_hints_correct:\n",
    "                    print(word)\n",
    "                    specialized_arr.append(word)\n",
    "    return specialized_arr\n",
    "\n",
    "def specialized2(combination_set, hint):\n",
    "    '''\n",
    "    hint_len=5, hint_arr=[[2,\"a\"],[5,\"s\"]]\n",
    "      is equivalent with\n",
    "    hint=\"_a__s\"\n",
    "    '''\n",
    "    hint_len = len(hint)\n",
    "    hint_arr = []\n",
    "    let_idx = 1\n",
    "    for x in hint:\n",
    "        if x.isalpha():\n",
    "            hint_arr.append([let_idx, x])\n",
    "        let_idx = let_idx+1\n",
    "    \n",
    "    return specialized(combination_set, hint_len, hint_arr)"
   ]
  },
  {
   "cell_type": "code",
   "execution_count": 82,
   "id": "12b8afed",
   "metadata": {},
   "outputs": [],
   "source": [
    "letters = \"cepat\"\n",
    "min_length = 3\n",
    "max_length = -1\n",
    "exact_length = -1"
   ]
  },
  {
   "cell_type": "code",
   "execution_count": 83,
   "id": "564cb328",
   "metadata": {},
   "outputs": [
    {
     "name": "stdout",
     "output_type": "stream",
     "text": [
      "cepat 1 5 -1\n",
      "all letters combinations without any constraints: 325\n",
      "35 290\n",
      "['te', 'ce', 'pacet', 'tap', 'pat', 'eta', 'pt', 'pet', 'ca', 'ceta', 'tape', 'atp', 'p', 'ac', 'peta', 'cape', 'cate', 't', 'ap', 'pe', 'ape', 'cat', 'e', 'pa', 'pecat', 'a', 'tepa', 'ace', 'cap', 'cepat', 'tce', 'c', 'atep', 'tea', 'at']\n"
     ]
    }
   ],
   "source": [
    "constrained_subs, rejected_subs = subs_constraints(letters, min_length, max_length, exact_length)\n",
    "print(len(constrained_subs), len(rejected_subs))\n",
    "print(constrained_subs)"
   ]
  },
  {
   "cell_type": "code",
   "execution_count": 84,
   "id": "d9f555dc",
   "metadata": {},
   "outputs": [
    {
     "name": "stdout",
     "output_type": "stream",
     "text": [
      "pacet\n",
      "pecat\n",
      "cepat\n"
     ]
    }
   ],
   "source": [
    "_ = specialized(constrained_subs, len(letters), [])"
   ]
  },
  {
   "cell_type": "code",
   "execution_count": 86,
   "id": "8fd1d777",
   "metadata": {},
   "outputs": [
    {
     "name": "stdout",
     "output_type": "stream",
     "text": [
      "peta\n"
     ]
    }
   ],
   "source": [
    "hint = \"p---\"\n",
    "_ = specialized2(constrained_subs, hint)"
   ]
  },
  {
   "cell_type": "code",
   "execution_count": 80,
   "id": "666b5045",
   "metadata": {},
   "outputs": [
    {
     "data": {
      "text/plain": [
       "False"
      ]
     },
     "execution_count": 80,
     "metadata": {},
     "output_type": "execute_result"
    }
   ],
   "source": [
    "\"kuartil\" in kbbi_words"
   ]
  },
  {
   "cell_type": "code",
   "execution_count": 81,
   "id": "986a5842",
   "metadata": {},
   "outputs": [
    {
     "data": {
      "text/plain": [
       "True"
      ]
     },
     "execution_count": 81,
     "metadata": {},
     "output_type": "execute_result"
    }
   ],
   "source": [
    "\"lari\" in kbbi_words"
   ]
  },
  {
   "cell_type": "code",
   "execution_count": null,
   "id": "dd3c0b4b",
   "metadata": {},
   "outputs": [],
   "source": []
  }
 ],
 "metadata": {
  "kernelspec": {
   "display_name": "Python 3 (ipykernel)",
   "language": "python",
   "name": "python3"
  },
  "language_info": {
   "codemirror_mode": {
    "name": "ipython",
    "version": 3
   },
   "file_extension": ".py",
   "mimetype": "text/x-python",
   "name": "python",
   "nbconvert_exporter": "python",
   "pygments_lexer": "ipython3",
   "version": "3.10.9"
  }
 },
 "nbformat": 4,
 "nbformat_minor": 5
}
